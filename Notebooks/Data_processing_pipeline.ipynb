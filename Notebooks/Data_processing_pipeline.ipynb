{
 "cells": [
  {
   "cell_type": "markdown",
   "id": "8626be48",
   "metadata": {},
   "source": [
    "# <center><font color='#F1B03D'>**Revenue Intelligence Enhancement for BrokerChooser - Data Processing**</font></center>\n",
    "### <center><font color='#F1B03D'>Central European University, 2024-2025</font></center>\n",
    "### <center><font color='#F1B03D'>CEU Capstone Project</font></center>\n",
    "\n",
    "### <left><font color='#F1B03D'>Author: Péter Bence Török (torokpe@gmail.com)</font></left>\n",
    "### <left><font color='#F1B03D'>BrokerChooser Contact Person: Zoltán Molnár (zoltan.molnar@brokerchooser.com)</font></left>\n",
    "\n",
    "---\n",
    "<p style=\"font-size:22px;\"> The notebook acts as a full data processing pipeline that prepares raw session-level data for analysis. It includes cleaning missing or inconsistent values, formatting variables, grouping rare categories, and engineering new features. As a final step, it outputs two cleaned datasets in .csv format: one containing the full processed data and another with a 10% random sample, both ready for modeling and analysis."
   ]
  },
  {
   "cell_type": "code",
   "execution_count": null,
   "id": "dcfbd347",
   "metadata": {},
   "outputs": [],
   "source": [
    "# Importing necessary libraries\n",
    "import os\n",
    "\n",
    "import warnings\n",
    "warnings.filterwarnings(\"ignore\")"
   ]
  },
  {
   "cell_type": "code",
   "execution_count": null,
   "id": "cfa98aff",
   "metadata": {},
   "outputs": [],
   "source": [
    "# Merging all raw .csv files\n",
    "folder_path = \"/Path/to/file/location/Raw files\"\n",
    "\n",
    "csv_files = [file for file in os.listdir(folder_path) if file.endswith('.csv')]\n",
    "df_list = [pd.read_csv(os.path.join(folder_path, file)) for file in csv_files]\n",
    "merged_df = pd.concat(df_list, ignore_index=True)"
   ]
  },
  {
   "cell_type": "markdown",
   "id": "3f060159",
   "metadata": {},
   "source": [
    "# 1. Data cleaning and formatting"
   ]
  },
  {
   "cell_type": "code",
   "execution_count": null,
   "id": "48cc267b",
   "metadata": {},
   "outputs": [],
   "source": [
    "# Remove duplicate rows based on session_id, keeping only the first occurrence\n",
    "merged_df.drop_duplicates(subset=\"session_id\", keep=\"first\", inplace=True)\n",
    "\n",
    "# Replace missing values in the revenue_usd column with 0 (assuming no revenue was generated)\n",
    "merged_df[\"revenue_usd\"] = merged_df[\"revenue_usd\"].fillna(0)\n",
    "\n",
    "# Replace missing values in page_referrer and aggregated_brokers columns with the string \"None\"\n",
    "merged_df[[\"page_referrer\", \"aggregated_brokers\"]] = merged_df[[\"page_referrer\", \"aggregated_brokers\"]].fillna(\"None\")\n",
    "\n",
    "# Drop all rows that have any missing values left in any column\n",
    "merged_df.dropna(subset=merged_df.columns, inplace=True)\n",
    "\n",
    "# Filter out test sessions by removing rows where 'aggregated_pages' contains 'brokerchooser.test'\n",
    "merged_df = merged_df[~merged_df[\"aggregated_pages\"].astype(str).str.contains(\"brokerchooser.test\", na=False)]"
   ]
  },
  {
   "cell_type": "code",
   "execution_count": null,
   "id": "911f3186",
   "metadata": {},
   "outputs": [],
   "source": [
    "# Define the list of operating systems want to keep as individual categories\n",
    "valid_os = [\"Windows\", \"iOS\", \"Android\", \"Macintosh\", \"Chrome OS\"]\n",
    "\n",
    "# Replace all other, less common operating systems with the label \"other\"\n",
    "merged_df[\"op_system\"] = merged_df[\"op_system\"].apply(\n",
    "    lambda x: x if x in valid_os else \"other\"\n",
    ")"
   ]
  },
  {
   "cell_type": "code",
   "execution_count": null,
   "id": "5c2e3410",
   "metadata": {},
   "outputs": [],
   "source": [
    "# Define the list of browser types want to keep as individual categories\n",
    "valid_browsers = [\"Chrome\", \"Safari\", \"Edge\", \"Firefox\", \"Opera\"]\n",
    "\n",
    "# Replace all other, less common browser types with the label \"other\"\n",
    "merged_df[\"browser\"] = merged_df[\"browser\"].apply(\n",
    "    lambda x: x if x in valid_browsers else \"other\"\n",
    ")"
   ]
  },
  {
   "cell_type": "code",
   "execution_count": null,
   "id": "2f7e988d",
   "metadata": {},
   "outputs": [],
   "source": [
    "# Simplify traffic source names by keeping main categories and grouping all others as \"other\"\n",
    "merged_df[\"traffic_name\"] = merged_df[\"traffic_name\"].apply(\n",
    "    lambda x: x if x in [\"(referral)\", \"(organic)\", \"(direct)\"] else \"other\"\n",
    ")"
   ]
  },
  {
   "cell_type": "code",
   "execution_count": null,
   "id": "81eaca3b",
   "metadata": {},
   "outputs": [],
   "source": [
    "# Replace '(none)' traffic medium values with 'other' for better category grouping\n",
    "merged_df['traffic_medium'] = merged_df['traffic_medium'].replace('(none)', 'other')"
   ]
  },
  {
   "cell_type": "code",
   "execution_count": null,
   "id": "ff93da63",
   "metadata": {},
   "outputs": [],
   "source": [
    "# Count how many sessions are from each country\n",
    "country_counts = (\n",
    "    merged_df\n",
    "    .groupby(\"country\")\n",
    "    .size()\n",
    "    .reset_index(name=\"count\")\n",
    "    .sort_values(\"count\", ascending=False)\n",
    ")\n",
    "\n",
    "# Select the top 50 countries based on session count\n",
    "top_countries = set(country_counts.iloc[:50][\"country\"])\n",
    "\n",
    "# Group less frequent countries under a single \"other\" category\n",
    "merged_df[\"country\"] = merged_df[\"country\"].apply(\n",
    "    lambda x: x if x in top_countries else \"other\"\n",
    ")"
   ]
  },
  {
   "cell_type": "code",
   "execution_count": null,
   "id": "fdcfbf7e",
   "metadata": {},
   "outputs": [],
   "source": [
    "# Simplify device column by keeping main categories and grouping all others as \"other\"\n",
    "merged_df[\"device\"] = merged_df[\"device\"].apply(\n",
    "    lambda x: x if x in ['desktop', 'mobile'] else 'other'\n",
    ")"
   ]
  },
  {
   "cell_type": "code",
   "execution_count": null,
   "id": "5bc9455f",
   "metadata": {},
   "outputs": [],
   "source": [
    "# Define a function to clean strings by removing or replacing specific characters\n",
    "def clean_string(val):\n",
    "    if isinstance(val, str):\n",
    "        return (\n",
    "            val.replace(' ', '')\n",
    "               .replace(\"’\", '')\n",
    "               .replace(\"(\", '')\n",
    "               .replace(\")\", '')\n",
    "               .replace(\"-\", '_')\n",
    "               .replace(\"&\", '')\n",
    "        )\n",
    "    return val  # return as-is if not a string\n",
    "\n",
    "# Apply the cleaning function to every value in the DataFrame\n",
    "merged_df = merged_df.applymap(clean_string)"
   ]
  },
  {
   "cell_type": "markdown",
   "id": "b8afa75f",
   "metadata": {},
   "source": [
    "# 2. Feature Engineering"
   ]
  },
  {
   "cell_type": "code",
   "execution_count": null,
   "id": "6cf103e4",
   "metadata": {},
   "outputs": [],
   "source": [
    "# Calculate session duration in seconds by subtracting start from end timestamp and converting microseconds to seconds\n",
    "merged_df[\"session_duration_in_seconds\"] = (merged_df[\"end_event_timestamp\"] - merged_df[\"start_event_timestamp\"]) / 1000000"
   ]
  },
  {
   "cell_type": "code",
   "execution_count": null,
   "id": "4051c3cc",
   "metadata": {},
   "outputs": [],
   "source": [
    "# Count number of visited pages by counting commas in the aggregated list and adding 1\n",
    "merged_df[\"pages_visited_count\"] = merged_df[\"aggregated_pages\"].str.count(\",\") + 1\n",
    "\n",
    "# Count number of triggered events in sessions\n",
    "merged_df[\"events_count\"] = merged_df[\"aggregated_event_names\"].str.count(\",\") + 1\n",
    "\n",
    "# Count how many different broker pages were visited during the session\n",
    "merged_df[\"brokers_visited_count\"] = merged_df[\"aggregated_brokers\"].str.count(\",\") + 1"
   ]
  },
  {
   "cell_type": "code",
   "execution_count": null,
   "id": "f5df868c",
   "metadata": {},
   "outputs": [],
   "source": [
    "# Convert event_date column to datetime type\n",
    "merged_df[\"event_date\"] = pd.to_datetime(merged_df[\"event_date\"])\n",
    "\n",
    "# Extract day of week (0=Monday, 6=Sunday)\n",
    "merged_df[\"day_of_week\"] = merged_df[\"event_date\"].dt.dayofweek\n",
    "\n",
    "# Extract day of the month (1–31)\n",
    "merged_df[\"day_of_month\"] = merged_df[\"event_date\"].dt.day\n",
    "\n",
    "# Convert microseconds to datetime\n",
    "merged_df[\"start_event_datetime\"] = pd.to_datetime(merged_df[\"start_event_timestamp\"], unit=\"us\")\n",
    "\n",
    "# Extract hour (24h format)\n",
    "merged_df[\"start_event_hour\"] = merged_df[\"start_event_datetime\"].dt.hour\n",
    "merged_df.drop(columns=[\"start_event_datetime\"], inplace=True)\n",
    "\n",
    "merged_df[\"is_weekend\"] = merged_df[\"day_of_week\"].isin([5, 6]).astype(int)"
   ]
  },
  {
   "cell_type": "code",
   "execution_count": null,
   "id": "f06df556",
   "metadata": {},
   "outputs": [],
   "source": [
    "# Create a binary variable to indicate whether the session generated any revenue\n",
    "merged_df[\"generated_revenue\"] = (merged_df[\"revenue_usd\"] != 0).astype(int)"
   ]
  },
  {
   "cell_type": "code",
   "execution_count": null,
   "id": "2436bc4c",
   "metadata": {},
   "outputs": [],
   "source": [
    "# Define keywords to check for in the 'aggregated_pages' column, mapping them to new binary feature names\n",
    "url_keywords = {\n",
    "    \"visited_about_us\": \"/about-us\",\n",
    "    \"visited_reviews\": \"/broker-review\",\n",
    "    \"visited_safety\": \"/safety/\",\n",
    "    \"visited_best_brokers\": \"/best-brokers\",\n",
    "    \"visited_scam_shield\": \"/scam-broker-shield\",\n",
    "    \"visited_community_site\": \"community.brokerchooser\",\n",
    "    \"visited_education\": \"/education/\",\n",
    "    \"visited_find_my_broker\": \"/find-my-broker\",\n",
    "    \"visited_long_term_investment\": \"/invest-long-term\",\n",
    "    \"visited_broker_comparing\": \"/compare\",\n",
    "    \"visited_carrers\": \"/careers\",\n",
    "    \"visited_Etoro\": \"etoro\",\n",
    "    \"visited_Fusion_Markets\": \"fusion-markets\",\n",
    "    \"visited_Eightcap\": \"eightcap\",\n",
    "    \"visited_FP_Markets\": \"fp-markets\",\n",
    "    \"visited_Capital_com\": \"capitalcom\",\n",
    "    \"visited_Pepperstone\": \"pepperstone\",\n",
    "    \"visited_Active_Trader\": \"interactivetrade\",\n",
    "    \"visited_Moneta_Markets\": \"moneta-markets\"\n",
    "}\n",
    "\n",
    "# Create a new binary column for each keyword indicating whether that keyword was found in the user's visited pages\n",
    "for col_name, keyword in url_keywords.items():\n",
    "    merged_df[col_name] = merged_df[\"aggregated_pages\"].astype(str).str.contains(keyword, na=False).astype(int)"
   ]
  },
  {
   "cell_type": "code",
   "execution_count": null,
   "id": "bf0696fc",
   "metadata": {},
   "outputs": [],
   "source": [
    "# Drop unnecessary columns\n",
    "merged_df.drop(columns=[\"session_id\", \"aggregated_pages\", \"revenue_usd\", \"aggregated_event_names\", \"aggregated_brokers\", \"start_event_timestamp\", \"end_event_timestamp\", \"page_referrer\", \"traffic_source\", \"continent\", \"op_system_version\", \"browser_version\", \"event_date\"], inplace=True)"
   ]
  },
  {
   "cell_type": "code",
   "execution_count": null,
   "id": "7689f505",
   "metadata": {},
   "outputs": [],
   "source": [
    "# Take a random 10% sample of the dataset and save the sampled data as a CSV file\n",
    "merged_df.sample(frac=0.1, random_state=42).to_csv(\"/Users/Peter/Desktop/Capstone_analytical/Data files/Processed files/data_sample.csv\", index=False)\n",
    "\n",
    "# Save the full, cleaned dataset to a CSV file\n",
    "merged_df.to_csv(\"/Users/Peter/Desktop/Capstone_analytical/Data files/Processed files/processed_data.csv\", index=False)"
   ]
  }
 ],
 "metadata": {
  "kernelspec": {
   "display_name": "C2",
   "language": "python",
   "name": "python3"
  },
  "language_info": {
   "codemirror_mode": {
    "name": "ipython",
    "version": 3
   },
   "file_extension": ".py",
   "mimetype": "text/x-python",
   "name": "python",
   "nbconvert_exporter": "python",
   "pygments_lexer": "ipython3",
   "version": "3.12.7"
  }
 },
 "nbformat": 4,
 "nbformat_minor": 5
}
